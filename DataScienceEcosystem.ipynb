{
 "cells": [
  {
   "cell_type": "markdown",
   "id": "961f9153",
   "metadata": {},
   "source": [
    "# Data Science Tools and Ecosystem"
   ]
  },
  {
   "cell_type": "markdown",
   "id": "da1e50bf",
   "metadata": {},
   "source": [
    "## In this notebook, Data Science Tools and Ecosystem are summarized."
   ]
  },
  {
   "cell_type": "markdown",
   "id": "44e13c98",
   "metadata": {},
   "source": [
    "### Some of the popular languages that Data Scientists use are:\n",
    "     Python\n",
    "     R\n",
    "     SQL"
   ]
  },
  {
   "cell_type": "markdown",
   "id": "e37fbdf5",
   "metadata": {},
   "source": [
    "### Some of the commonly used libraries used by Data Scientists include:\n",
    "    Pandas\n",
    "    Numpy\n",
    "    Tensor Flow"
   ]
  },
  {
   "cell_type": "markdown",
   "id": "a9268885",
   "metadata": {},
   "source": [
    "| Data Science Tools         |\n",
    "|----------------------------|\n",
    "| Jupyter Notebook           |\n",
    "| RStudio                    |\n",
    "| Apache Spark               |\n"
   ]
  },
  {
   "cell_type": "markdown",
   "id": "0c6aa496",
   "metadata": {},
   "source": [
    "### Below are a few examples of evaluating arithmetic expressions in Python\n",
    "\n",
    "1. **Addition**: `5 + 3 = 8`  \n",
    "2. **Subtraction**: `10 - 4 = 6`  \n",
    "3. **Multiplication**: `7 * 6 = 42`  \n",
    "4. **Division**: `20 / 5 = 4`  \n",
    "5. **Exponentiation**: `2 ** 3 = 8`  \n"
   ]
  },
  {
   "cell_type": "code",
   "execution_count": 4,
   "id": "7e9ec369",
   "metadata": {},
   "outputs": [
    {
     "data": {
      "text/plain": [
       "17"
      ]
     },
     "execution_count": 4,
     "metadata": {},
     "output_type": "execute_result"
    }
   ],
   "source": [
    "# This is a simple arithmetic expression to multiply then add integers\n",
    "(3 * 4) + 5"
   ]
  },
  {
   "cell_type": "code",
   "execution_count": 6,
   "id": "77e7fa5c",
   "metadata": {},
   "outputs": [
    {
     "data": {
      "text/plain": [
       "3.3333333333333335"
      ]
     },
     "execution_count": 6,
     "metadata": {},
     "output_type": "execute_result"
    }
   ],
   "source": [
    "#Below operation will convert 200 minutes to hours by diving by 60\n",
    "200/60"
   ]
  },
  {
   "cell_type": "markdown",
   "id": "5df1dd01",
   "metadata": {},
   "source": [
    "## Author\n",
    "\n",
    "Your Name\n"
   ]
  },
  {
   "cell_type": "code",
   "execution_count": null,
   "id": "ef196d04",
   "metadata": {},
   "outputs": [],
   "source": []
  }
 ],
 "metadata": {
  "kernelspec": {
   "display_name": "Python 3 (ipykernel)",
   "language": "python",
   "name": "python3"
  },
  "language_info": {
   "codemirror_mode": {
    "name": "ipython",
    "version": 3
   },
   "file_extension": ".py",
   "mimetype": "text/x-python",
   "name": "python",
   "nbconvert_exporter": "python",
   "pygments_lexer": "ipython3",
   "version": "3.11.5"
  }
 },
 "nbformat": 4,
 "nbformat_minor": 5
}
